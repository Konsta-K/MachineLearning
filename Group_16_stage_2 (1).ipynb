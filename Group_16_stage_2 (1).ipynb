{
 "cells": [
  {
   "cell_type": "markdown",
   "metadata": {},
   "source": []
  },
  {
   "cell_type": "code",
   "execution_count": 2,
   "metadata": {},
   "outputs": [],
   "source": [
    "#import modules \n",
    "import os\n",
    "import numpy as np\n",
    "from numpy import asarray \n",
    "import matplotlib.pyplot as plt\n",
    "from sklearn.linear_model import LogisticRegression\n",
    "from sklearn.metrics import confusion_matrix, accuracy_score\n",
    "from PIL import Image, ImageFilter"
   ]
  },
  {
   "cell_type": "code",
   "execution_count": 14,
   "metadata": {},
   "outputs": [],
   "source": [
    "#define folders and # of classes\n",
    "folder_training = 'Lego_dataset_2/training/'\n",
    "folder_testing = 'Lego_dataset_2/testing/'\n",
    "classes = [i for i in range (3)]\n"
   ]
  },
  {
   "cell_type": "code",
   "execution_count": 15,
   "metadata": {},
   "outputs": [],
   "source": [
    "#Creating a list for classes, and getting data from folders\n",
    "def get_data (folder,im_width):\n",
    "    File_names = os.listdir(folder)\n",
    "    folder_length = len(File_names)\n",
    "    x = np.empty ((folder_length,im_width**2))\n",
    "    y = np.empty ((folder_length,1))\n",
    "    for i in range(folder_length):\n",
    "        path = folder + File_names[i]\n",
    "        im = Image.open(path).convert('L')\n",
    "        im = im.resize((im_width,im_width))\n",
    "        im_array = asarray(im)\n",
    "        x[i ,:] = im_array.reshape(1,-1)\n",
    "        if File_names[i][0:3].startswith(\"cir\"):\n",
    "            y[i,0] = classes[0]\n",
    "        elif File_names[i][0:3].startswith(\"rec\"):\n",
    "            y[i,0] = classes[1]\n",
    "        else:\n",
    "            y[i,0] = classes[2]\n",
    "    return x,y"
   ]
  },
  {
   "cell_type": "code",
   "execution_count": 16,
   "metadata": {},
   "outputs": [
    {
     "name": "stdout",
     "output_type": "stream",
     "text": [
      "(81, 4096) (81, 1)\n"
     ]
    }
   ],
   "source": [
    "#training data\n",
    "im_width = 64\n",
    "im_length = im_width\n",
    "File_names = os.listdir(folder_training)\n",
    "folder_length = len(File_names)\n",
    "P_per_class = 24; \n",
    "x_train = np.empty((folder_length,im_width**2))\n",
    "y_train = np.empty((folder_length,1))\n",
    "print(x_train.shape,y_train.shape)\n",
    "x_train,y_train = get_data(folder_training, im_width)   \n",
    "P_train = len(x_train[:,0])\n",
    "\n",
    "\n",
    "def count_max_horizontal(image_array, max_horizontal):\n",
    "    for i in range(len(image_array[:,0])):\n",
    "        if(np.count_nonzero(image_array[:,i]) == 0):\n",
    "            continue\n",
    "        max_count = np.count_nonzero(image_array[:,i])\n",
    "        if(max_count > max_horizontal):\n",
    "            max_horizontal = max_count\n",
    "    \n",
    "    return max_horizontal\n",
    "\n",
    "def count_max_vertical(image_array, max_vertical):\n",
    "    for i in range(len(image_array[0,:])):\n",
    "        if(np.count_nonzero(image_array[i,:]) == 0):\n",
    "            continue\n",
    "        max_count = np.count_nonzero(image_array[i,:])\n",
    "        if(max_count > max_vertical):\n",
    "            max_vertical = max_count\n",
    "    \n",
    "    return max_vertical"
   ]
  },
  {
   "cell_type": "code",
   "execution_count": 17,
   "metadata": {},
   "outputs": [],
   "source": [
    "#Calculating max nonzeros horizontally and vertically in all images\n",
    "def process_image(image_array,edge_thresh,label):\n",
    "    image_array = (image_array-np.min(image_array))*255/(np.max(image_array)-np.min(image_array)) #greyscale 0-255 for contrast\n",
    "    im = Image.fromarray(image_array.reshape(im_width,im_length)).convert('L')\n",
    "    edges_image = im.filter(ImageFilter.FIND_EDGES)\n",
    "    edges_array = np.asarray(edges_image)\n",
    "    edges_array_scaled = edges_array.copy()[1:im_width-1,1:im_length-1]\n",
    "    edges_array_scaled[edges_array_scaled < edge_thresh,] = 0 \n",
    "    \n",
    "    max_horizontal = 0\n",
    "    max_vertical = 0\n",
    "    \n",
    "    if(label == 1):\n",
    "        img = Image.fromarray(edges_array_scaled)\n",
    "        count = 0\n",
    "        while(max_horizontal < 10 or count <= 25):\n",
    "            img = img.rotate(5)\n",
    "            new_edges = np.asarray(img)\n",
    "            max_horizontal = count_max_horizontal(new_edges, max_horizontal)\n",
    "            count = count + 1\n",
    "    \n",
    "\n",
    "    if(label == 2):\n",
    "        img = Image.fromarray(edges_array_scaled)\n",
    "        count = 0\n",
    "        while(max_horizontal < 10 or count <= 25):\n",
    "            img = img.rotate(5)\n",
    "            new_edges = np.asarray(img)\n",
    "            max_horizontal = count_max_horizontal(new_edges, max_horizontal)\n",
    "            count = count + 1\n",
    "            \n",
    "    \n",
    "    x = np.array([max_horizontal,max_vertical]).reshape(1,-1)        \n",
    "    return x"
   ]
  },
  {
   "cell_type": "code",
   "execution_count": null,
   "metadata": {},
   "outputs": [],
   "source": []
  },
  {
   "cell_type": "code",
   "execution_count": 18,
   "metadata": {},
   "outputs": [],
   "source": [
    "#Image processing implemented\n",
    "ET = 45\n",
    "PT = 2\n",
    "edge_features_train = np.empty((P_train,2)) #training features\n",
    "for i in range(P_train):\n",
    "    edge_features_train[i,:] = process_image(x_train[i,:],ET,PT)"
   ]
  },
  {
   "cell_type": "code",
   "execution_count": 3,
   "metadata": {},
   "outputs": [
    {
     "ename": "NameError",
     "evalue": "name 'edge_features_train' is not defined",
     "output_type": "error",
     "traceback": [
      "\u001b[0;31m---------------------------------------------------------------------------\u001b[0m",
      "\u001b[0;31mNameError\u001b[0m                                 Traceback (most recent call last)",
      "\u001b[0;32m<ipython-input-3-92c63dfb5564>\u001b[0m in \u001b[0;36m<module>\u001b[0;34m\u001b[0m\n\u001b[1;32m      1\u001b[0m \u001b[0;31m#fitting the model\u001b[0m\u001b[0;34m\u001b[0m\u001b[0;34m\u001b[0m\u001b[0;34m\u001b[0m\u001b[0m\n\u001b[1;32m      2\u001b[0m \u001b[0mmodel\u001b[0m \u001b[0;34m=\u001b[0m \u001b[0mLogisticRegression\u001b[0m\u001b[0;34m(\u001b[0m\u001b[0;34m)\u001b[0m\u001b[0;34m\u001b[0m\u001b[0;34m\u001b[0m\u001b[0m\n\u001b[0;32m----> 3\u001b[0;31m \u001b[0mmodel\u001b[0m\u001b[0;34m.\u001b[0m\u001b[0mfit\u001b[0m\u001b[0;34m(\u001b[0m\u001b[0medge_features_train\u001b[0m\u001b[0;34m,\u001b[0m\u001b[0my_train\u001b[0m\u001b[0;34m)\u001b[0m\u001b[0;34m\u001b[0m\u001b[0;34m\u001b[0m\u001b[0m\n\u001b[0m\u001b[1;32m      4\u001b[0m \u001b[0;32mimport\u001b[0m \u001b[0mwarnings\u001b[0m\u001b[0;34m\u001b[0m\u001b[0;34m\u001b[0m\u001b[0m\n\u001b[1;32m      5\u001b[0m \u001b[0;32mfrom\u001b[0m \u001b[0msklearn\u001b[0m\u001b[0;34m.\u001b[0m\u001b[0mexceptions\u001b[0m \u001b[0;32mimport\u001b[0m \u001b[0mDataConversionWarning\u001b[0m\u001b[0;34m\u001b[0m\u001b[0;34m\u001b[0m\u001b[0m\n",
      "\u001b[0;31mNameError\u001b[0m: name 'edge_features_train' is not defined"
     ]
    }
   ],
   "source": [
    "#fitting the model\n",
    "model = LogisticRegression()\n",
    "model.fit(edge_features_train,y_train)\n",
    "import warnings\n",
    "from sklearn.exceptions import DataConversionWarning\n",
    "warnings.filterwarnings(action='ignore', category=DataConversionWarning)"
   ]
  },
  {
   "cell_type": "code",
   "execution_count": 20,
   "metadata": {},
   "outputs": [
    {
     "name": "stdout",
     "output_type": "stream",
     "text": [
      "(81, 4096) (81, 1)\n"
     ]
    }
   ],
   "source": [
    "# testing data\n",
    "P_per_class = 2500; \n",
    "x_test,y_test = get_data(folder_testing,im_width)\n",
    "P_test = len(x_test[:,0])\n",
    "print(x_test.shape,y_test.shape)\n"
   ]
  },
  {
   "cell_type": "code",
   "execution_count": 21,
   "metadata": {},
   "outputs": [],
   "source": [
    "edge_features_test = np.empty((P_test,2))\n",
    "for i in range(P_test):edge_features_test[i,:] = process_image(x_test[i,:],ET,PT)"
   ]
  },
  {
   "cell_type": "code",
   "execution_count": 22,
   "metadata": {},
   "outputs": [
    {
     "name": "stdout",
     "output_type": "stream",
     "text": [
      "0.8518518518518519\n",
      "[[21  1  5]\n",
      " [ 0 26  1]\n",
      " [ 3  2 22]]\n"
     ]
    }
   ],
   "source": [
    "#displaying the results\n",
    "y_pred = model.predict(edge_features_test)\n",
    "print(accuracy_score(y_test,y_pred))\n",
    "print(confusion_matrix(y_test,y_pred))\n"
   ]
  },
  {
   "cell_type": "code",
   "execution_count": 23,
   "metadata": {},
   "outputs": [],
   "source": [
    "def test_function(path,im_width,ET,PT,model):\n",
    "\n",
    "    x_test,y_test=get_data(path,im_width)\n",
    "    P_test = len(x_test[:,0])\n",
    "\n",
    "    edge_features_test = np.empty((P_test,2))\n",
    "    \n",
    "    for i in range(P_test):\n",
    "        edge_features_test[i,:] = process_image(x_test[i,:],ET,PT)\n",
    "   \n",
    "    y_pred=model.predict(edge_features_test)\n",
    "    print(accuracy_score(y_test,y_pred))\n",
    "    print(confusion_matrix(y_test,y_pred))\n",
    "\n",
    "\n",
    "\n",
    "\n"
   ]
  },
  {
   "cell_type": "code",
   "execution_count": 24,
   "metadata": {},
   "outputs": [
    {
     "name": "stdout",
     "output_type": "stream",
     "text": [
      "0.8518518518518519\n",
      "[[21  1  5]\n",
      " [ 0 26  1]\n",
      " [ 3  2 22]]\n"
     ]
    }
   ],
   "source": [
    "test_function(folder_testing,im_width,ET,PT,model)"
   ]
  },
  {
   "cell_type": "code",
   "execution_count": null,
   "metadata": {},
   "outputs": [],
   "source": [
    "\n",
    "    "
   ]
  },
  {
   "cell_type": "code",
   "execution_count": null,
   "metadata": {},
   "outputs": [],
   "source": []
  },
  {
   "cell_type": "code",
   "execution_count": null,
   "metadata": {},
   "outputs": [],
   "source": []
  }
 ],
 "metadata": {
  "kernelspec": {
   "display_name": "Python 3",
   "language": "python",
   "name": "python3"
  },
  "language_info": {
   "codemirror_mode": {
    "name": "ipython",
    "version": 3
   },
   "file_extension": ".py",
   "mimetype": "text/x-python",
   "name": "python",
   "nbconvert_exporter": "python",
   "pygments_lexer": "ipython3",
   "version": "3.8.5"
  },
  "vscode": {
   "interpreter": {
    "hash": "7ea3a11aaa978d9646058336c84c9a0218aba8c5d679a7a8e354537b3f287648"
   }
  }
 },
 "nbformat": 4,
 "nbformat_minor": 5
}
